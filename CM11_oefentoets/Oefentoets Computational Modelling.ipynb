{
 "cells": [
  {
   "cell_type": "markdown",
   "metadata": {},
   "source": [
    "# Oefentoets Computational Modelling\n",
    "Deze oefentoets bestaat uit twee opdrachten met verschillende opgaven per opdracht. In de eerste opdracht gaan jullie aan de slag met het verkennen van een dataset en in de tweede opdracht met unsupervised learning. Voor deze oefentoets hebben jullie 60 minuten de tijd.\n",
    "\n",
    "Lees de instructies hieronder goed door."
   ]
  },
  {
   "cell_type": "markdown",
   "metadata": {},
   "source": [
    "### Beantwoorden vragen\n",
    "Licht jouw uitwerking toe. Documenteer belangrijke stukken code en licht jouw werkwijze toe. \n",
    "\n",
    "#### Code documenteren\n",
    "Simpele code zoals het aanmaken van een leeg array of een train_test_split functie aanroepen hoeft niet toegelicht te worden, maar wanneer je iets doet dat belangrijk is om te begrijpen omdat het essentieel is voor de opdracht moet toegelicht worden. Leg dit uit m.b.v. commentaar bij de code.\n",
    "\n",
    "#### Werkwijze toelichten\n",
    "Om tot een oplossing te komen, voer je vaak meerdere stappen uit. Leg uit welke stappen je uitvoert, waarom deze stappen nodig zijn, de volgorde, etc. Gebruik hier voor een aparte 'Markdown' cel.\n",
    "\n",
    "#### Gebruik van online bronnen\n",
    "Je mag de documentatie van numpy, pandas, sklearn, etc. raadplegen. Je mag ook gebruik maken van websites als stackoverflow.com maar je mag geen code kopiëren van die sites.\n",
    "\n",
    "Je mag ook gebruik maken van Copilot, ChatGPT of andere AI-tools maar je mag die code ook niet zomaar kopiëren: gebruik de resultaten van de prompts puur als inspiratie. Daarnaast moet je de prompts als bronvermelding noemen.\n",
    "\n",
    "Je mag Copilot, ChatGPT of andere AI-tools **niet** gebruiken voor het documenteren, toelichten van de werkwijze of voor het beantwoorden van open vragen.\n",
    "\n",
    "Bij het vermoeden van onrechtmatig gebruik van bronnen zal een individueel assessment volgen."
   ]
  },
  {
   "cell_type": "markdown",
   "metadata": {},
   "source": [
    "## Opdracht 1\n",
    "In deze opdracht gaan jullie een dataset verkennen. We gebruiken hiervoor de IMDB movieset."
   ]
  },
  {
   "cell_type": "code",
   "execution_count": null,
   "metadata": {},
   "outputs": [],
   "source": [
    "import pandas as pd\n",
    "import numpy as np\n",
    "import matplotlib.pyplot as plt\n",
    "import seaborn as sns\n",
    "import scipy.stats as stats"
   ]
  },
  {
   "cell_type": "code",
   "execution_count": null,
   "metadata": {},
   "outputs": [],
   "source": [
    "df = pd.read_csv('movie.csv')\n",
    "df.head()"
   ]
  },
  {
   "cell_type": "markdown",
   "metadata": {},
   "source": [
    "**Opgave 1.1.**\n",
    "\n",
    "Bepaal of de kolommen `['duration','gross','budget','imdb_score']` outliers bevatten. Zo ja, zijn het zwakke of sterke outliers?"
   ]
  },
  {
   "cell_type": "code",
   "execution_count": null,
   "metadata": {},
   "outputs": [],
   "source": []
  },
  {
   "cell_type": "markdown",
   "metadata": {},
   "source": [
    "**Opgave 1.2**\n",
    "\n",
    "Bepaal het gemiddelde en de mediaan van `gross`. Verklaar hoe het mogelijk is dat er een verschil is tussen deze twee waarden.\n",
    "\n",
    "**Merk op:** voor het open deel van deze vraag mag je geen gebruik maken van Copilot, ChatGPT of andere AI-tools."
   ]
  },
  {
   "cell_type": "code",
   "execution_count": null,
   "metadata": {},
   "outputs": [],
   "source": []
  },
  {
   "cell_type": "markdown",
   "metadata": {},
   "source": [
    "**Opgave 1.3.**\n",
    "\n",
    "Bepaal de correlatie tussen de kolommen `['duration','gross','budget', 'imdb_score']` onderling. Stel je gaat een model trainen met `imdb_score` als target variabele. Welke conclusies kun je dan trekken op basis van deze analyse."
   ]
  },
  {
   "cell_type": "code",
   "execution_count": null,
   "metadata": {},
   "outputs": [],
   "source": []
  },
  {
   "cell_type": "markdown",
   "metadata": {},
   "source": [
    "**Opgave 1.4.**\n",
    "\n",
    "Toon de volgende gegevens:\n",
    "\n",
    "1. Een overzicht van de gemiddelde IMDB scores per regisseur (`director_name`), aflopend gesorteerd\n",
    "2. Een overzicht van de drie films met de langste duur\n",
    "3. Een overzicht van de duur en IMDB score van alle Franstalige films (`language = 'French'`) uit 2014 en 2015\n",
    "4. Uitbreiding op vraag 3: toon de gemiddelde duur en IMDB score van deze films"
   ]
  },
  {
   "cell_type": "code",
   "execution_count": null,
   "metadata": {},
   "outputs": [],
   "source": []
  },
  {
   "cell_type": "markdown",
   "metadata": {},
   "source": [
    "## Opdracht 2\n",
    "In deze opdracht gaan jullie een model trainen met behulp van unsupervised learning."
   ]
  },
  {
   "cell_type": "code",
   "execution_count": null,
   "metadata": {},
   "outputs": [],
   "source": [
    "from sklearn.mixture import GaussianMixture\n",
    "from sklearn.cluster import KMeans\n",
    "from sklearn.datasets import make_blobs"
   ]
  },
  {
   "cell_type": "code",
   "execution_count": null,
   "metadata": {},
   "outputs": [],
   "source": [
    "#X is een random gemaakt numpy array met twee features\n",
    "X, _ = make_blobs(n_samples=400, centers=7,\n",
    "                       cluster_std=0.90, random_state=0)"
   ]
  },
  {
   "cell_type": "markdown",
   "metadata": {},
   "source": [
    "**Opgave 2.1**\n",
    "\n",
    "Maak een visualisatie die de relatie tussen de twee features in X weergeeft. Zijn er relaties of verbanden te zien?"
   ]
  },
  {
   "cell_type": "code",
   "execution_count": null,
   "metadata": {},
   "outputs": [],
   "source": []
  },
  {
   "cell_type": "markdown",
   "metadata": {},
   "source": [
    "**Opgave 2.2.**\n",
    "\n",
    "Gebruik `KMeans` om een clustering te maken van de punten in array `X`. Kies voor `k` = 5."
   ]
  },
  {
   "cell_type": "code",
   "execution_count": null,
   "metadata": {},
   "outputs": [],
   "source": []
  },
  {
   "cell_type": "markdown",
   "metadata": {},
   "source": [
    "**Opgave 2.3.**\n",
    "\n",
    "Bepaal de score van gevonden clustering."
   ]
  },
  {
   "cell_type": "code",
   "execution_count": null,
   "metadata": {},
   "outputs": [],
   "source": []
  },
  {
   "cell_type": "markdown",
   "metadata": {},
   "source": [
    "**Opgave 2.4.**\n",
    "\n",
    "Pas de scatterplot van opgave 2.1 aan en visualiseer de gevonden clusters."
   ]
  },
  {
   "cell_type": "code",
   "execution_count": null,
   "metadata": {},
   "outputs": [],
   "source": []
  },
  {
   "cell_type": "markdown",
   "metadata": {},
   "source": [
    "**Opgave 2.5.**\n",
    "\n",
    "Maak een clustering voor `k` = 1 t/m 20. Geef aan voor welke `k` de clustering het _beste_ is. Onderbouw wat je onder het _beste_ verstaat."
   ]
  },
  {
   "cell_type": "code",
   "execution_count": null,
   "metadata": {},
   "outputs": [],
   "source": []
  },
  {
   "cell_type": "markdown",
   "metadata": {},
   "source": [
    "**Opgave 2.6.**\n",
    "\n",
    "Maak ook een clustering met `GaussianMixture` met de in opgave 2.5 gekozen `k`. "
   ]
  },
  {
   "cell_type": "code",
   "execution_count": null,
   "metadata": {},
   "outputs": [],
   "source": []
  },
  {
   "cell_type": "markdown",
   "metadata": {},
   "source": [
    "**Opgave 2.7.**\n",
    "\n",
    "Hoeveel punten uit X worden door `KMeans` en `GaussianMixture` in verschillende clusters ingedeeld. "
   ]
  },
  {
   "cell_type": "code",
   "execution_count": null,
   "metadata": {},
   "outputs": [],
   "source": []
  },
  {
   "cell_type": "markdown",
   "metadata": {},
   "source": [
    "## Einde toets\n",
    "Voer `Restart & Run All` uit onder `Kernel` en check of er geen errors zijn."
   ]
  }
 ],
 "metadata": {
  "kernelspec": {
   "display_name": "Python 3 (ipykernel)",
   "language": "python",
   "name": "python3"
  },
  "language_info": {
   "codemirror_mode": {
    "name": "ipython",
    "version": 3
   },
   "file_extension": ".py",
   "mimetype": "text/x-python",
   "name": "python",
   "nbconvert_exporter": "python",
   "pygments_lexer": "ipython3",
   "version": "3.12.4"
  }
 },
 "nbformat": 4,
 "nbformat_minor": 4
}
