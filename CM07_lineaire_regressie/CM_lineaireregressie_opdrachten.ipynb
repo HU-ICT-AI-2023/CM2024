{
 "cells": [
  {
   "cell_type": "markdown",
   "id": "3118654e-051d-4bd3-9817-a500827e9f40",
   "metadata": {},
   "source": [
    "# Lineaire regressie - opdrachten"
   ]
  },
  {
   "cell_type": "markdown",
   "id": "b16ed498-8c88-4342-b8a1-aa4762905d95",
   "metadata": {},
   "source": [
    "In dit notebook vind je 2 opdrachten over lineaire regressie. \n",
    "\n",
    "- <a href = \"#linreg_opdracht1\"> Opdracht 1 </a> bestaat uit 2 oefeningen die je maakt ter voorbereiding van het college.\n",
    "- <a href = \"#linreg_opdracht2\"> Opdracht 2 </a> bestaat uit 6 stappen en die maak je tijdens het college."
   ]
  },
  {
   "cell_type": "markdown",
   "id": "64e8489a-ae15-4f62-ab45-f408878d502c",
   "metadata": {},
   "source": [
    "<a id=\"linreg_opdracht1\"></a>\n",
    "## Opdracht 1"
   ]
  },
  {
   "cell_type": "code",
   "execution_count": null,
   "id": "45ffd166-960f-4acf-8e46-933ce1aad6cc",
   "metadata": {},
   "outputs": [],
   "source": [
    "import numpy as np\n",
    "import pandas as pd\n",
    "import matplotlib.pyplot as plt\n",
    "import matplotlib.patches as patches\n",
    "import seaborn as sns\n",
    "from sklearn.model_selection import train_test_split\n",
    "from sklearn.linear_model import LinearRegression\n",
    "from sklearn.metrics import mean_squared_error\n",
    "from sklearn.metrics import r2_score"
   ]
  },
  {
   "cell_type": "code",
   "execution_count": null,
   "id": "bd7a25ff-48e2-4a2f-a373-8499ccaeaf96",
   "metadata": {},
   "outputs": [],
   "source": [
    "personen = pd.DataFrame({'lengte': [1.678, 1.755, 1.764, 1.821, 1.809, 1.851, 1.848, 1.902], \n",
    "                         'gewicht': [62.2, 67.2, 72.7, 76.4, 75.2, 81.3, 87.4, 90.4]})"
   ]
  },
  {
   "cell_type": "code",
   "execution_count": null,
   "id": "eda79b73-f060-4f63-ad26-bbaad86880ef",
   "metadata": {},
   "outputs": [],
   "source": [
    "r = personen['gewicht'].corr(personen['lengte'])\n",
    "print(f'Pearsons correlatiecoëfficient r = {r}')"
   ]
  },
  {
   "cell_type": "markdown",
   "id": "f63c325f-d5eb-4716-867a-5fee36b03ce2",
   "metadata": {},
   "source": [
    "### Opdracht 1a: bepaal handmatig de beste coëfficienten\n",
    "\n",
    "Zoek de _beste_ lineaire formule die het gewicht $y$ voorspelt gegeven lengte $x$ met richtingscoëfficient $a$ en intercept $b$. Je vindt de beste formule door de _sum of squared residuals_ (SSR, de som van het kwadraat van de residuen) te minimaliseren. Maak hiervoor gebruik van de grafiek die hieronder getekend wordt. De verticale rode lijnen representeren het residu bij elke meetwaarde.\n",
    "\n",
    "Pas a en b zodanig aan dat je de 'Sum of squared residuals (SSR)' minimaliseert\n",
    "Pas in deze cel a en b aan, run deze cel en de volgende cel en analyseer het resultaat aan de hand van de score die \n",
    "boven in de visualisatie getoond wordt\n",
    "\n",
    " - Tip 1: je kunt als eerste gok de coëfficienten uitrekenen op basis van een van de gegeven punten\n",
    " - Tip 2: je kunt de helling van de lijn aanpassen met a\n",
    " - Tip 3: je kunt de hoogte van de lijn aanpassen met b"
   ]
  },
  {
   "cell_type": "code",
   "execution_count": null,
   "id": "9f99a83f-a521-47ff-9f6f-b934c72e1207",
   "metadata": {},
   "outputs": [],
   "source": [
    "# x-as loopt van minimum van lengte tot maximum van lengte\n",
    "x = np.linspace((personen[['lengte']].min()-.03), personen[['lengte']].max()+.03)"
   ]
  },
  {
   "cell_type": "code",
   "execution_count": null,
   "id": "fce9c30a-7c99-4d7d-b6d6-9381c5938f6f",
   "metadata": {
    "tags": [
     "student"
    ]
   },
   "outputs": [],
   "source": [
    "# Geef hier de beste formule\n",
    "a = 1\n",
    "b = 0\n",
    "y = a*x+b"
   ]
  },
  {
   "cell_type": "code",
   "execution_count": null,
   "id": "3e30b496-ef44-49fd-b167-ff05cb47a5b2",
   "metadata": {},
   "outputs": [],
   "source": [
    "# Make predictions\n",
    "personen['gewicht_voorspeld'] = a * personen[['lengte']] + b \n",
    "personen['residu'] = (personen['gewicht_voorspeld'] - personen['gewicht'])\n",
    "personen['square'] = personen['residu']**2\n",
    "ssr = personen['square'].sum()\n",
    "\n",
    "# Create figure and axes\n",
    "fig, ax = plt.subplots(figsize=(10, 10))\n",
    "\n",
    "plt.title('Sum of squared residuals (SSR): {:.2f}'.format(ssr))\n",
    "plt.xlabel('lengte (cm)')\n",
    "plt.ylabel('gewicht (kg)')\n",
    "\n",
    "ratio = (x.max()-x.min())/(y.max()-y.min())\n",
    "\n",
    "ax.plot(x,y, linewidth=2)\n",
    "ax.scatter(personen['lengte'], personen['gewicht_voorspeld'])\n",
    "ax.scatter(personen['lengte'], personen['gewicht'], c='r')\n",
    "\n",
    "# Create a Rectangle patch\n",
    "for index, persoon in personen.iterrows():\n",
    "    if ssr < 500:\n",
    "        rect = patches.Rectangle((persoon['lengte'], persoon['gewicht']),\n",
    "                                 persoon['residu']*ratio, persoon['residu'],\n",
    "                                 linewidth=1,edgecolor='r', facecolor='r', alpha=.3)\n",
    "        ax.add_patch(rect)\n",
    "        \n",
    "    rect = patches.Rectangle((persoon['lengte'], persoon['gewicht']),\n",
    "                             0.00005, persoon['residu'],\n",
    "                             linewidth=2,edgecolor='r',facecolor='none')\n",
    "    ax.add_patch(rect)\n",
    "\n",
    "plt.show()"
   ]
  },
  {
   "cell_type": "markdown",
   "id": "cd2727ce-18a5-4395-b8cf-aa0595b4604e",
   "metadata": {},
   "source": [
    "### Opdracht 1b: bepaal de beste coëfficienten met behulp van Lineaire Regressie\n",
    "We gaan nu de computer coëfficienten a en b laten bepalen met behulp van Lineaire Regressie. Voer de volgende stappen uit:\n",
    "\n",
    " - Kies het juiste modeltype\n",
    " - Kies de features en targetvariabele\n",
    " - Kies de hyperparameters\n",
    " - Train het model\n",
    " - Valideer de resultaten m.b.v. de RMSE (als je het echt goed doet, vergelijk je de resultaten met een baseline model...)\n",
    " \n",
    "**Merk op**: je hoeft geen train-test split te maken want we willen dezelfde data gebruiken net als bij opdracht 1 zodat we beide acties kunnen vergelijken."
   ]
  },
  {
   "cell_type": "code",
   "execution_count": null,
   "id": "a0dfa760-e83b-4c3a-a045-086d0b1b2e3d",
   "metadata": {
    "tags": [
     "student"
    ]
   },
   "outputs": [],
   "source": []
  },
  {
   "cell_type": "markdown",
   "id": "98415c26-3a16-4163-9563-a7d0a7f288f0",
   "metadata": {},
   "source": [
    "<a id=\"linreg_opdracht2\"></a>\n",
    "## Opdracht 2"
   ]
  },
  {
   "cell_type": "markdown",
   "id": "a41d409e-785b-45b2-ac93-90844de17703",
   "metadata": {},
   "source": [
    "In deze oefening gaan we onderzoeken of het verbruik van auto's is te voorspellen aan de hand van diverse kenmerken. Er worden eerst een aantal analyses en bewerkingen op de data uitgevoerd, voordat we starten met enkele opdrachten."
   ]
  },
  {
   "cell_type": "code",
   "execution_count": null,
   "id": "74258554-03ed-454a-837c-81efe08748ab",
   "metadata": {},
   "outputs": [],
   "source": [
    "# Bronnen\n",
    "# Dowload: https://archive.ics.uci.edu/ml/datasets/Auto+MPG \n",
    "# Omvormen naar csv: http://fatihsarigoz.com/autompg-data.html \n",
    "# Lineaire regressie: http://benalexkeen.com/linear-regression-in-python-using-scikit-learn/ "
   ]
  },
  {
   "cell_type": "code",
   "execution_count": null,
   "id": "ffbbbcd5-ab3b-44f3-b1d3-682312fbea6a",
   "metadata": {},
   "outputs": [],
   "source": [
    "# Libraries importeren\n",
    "\n",
    "import pandas as pd\n",
    "import numpy as np\n",
    "from sklearn.model_selection import train_test_split\n",
    "from sklearn.linear_model import LinearRegression\n",
    "from sklearn.metrics import mean_squared_error\n",
    "from sklearn.metrics import r2_score\n",
    "import math\n",
    "import matplotlib.pyplot as plt"
   ]
  },
  {
   "cell_type": "code",
   "execution_count": null,
   "id": "770de064-664d-44fc-8e23-601b50d6ae67",
   "metadata": {},
   "outputs": [],
   "source": [
    "# Analyseren welke attributen er in de dataset zitten. Als je de inhoud niet snapt, is het handig om ff te Googlen!\n",
    "\n",
    "df = pd.read_csv('lineaire_regressie_auto_mpg.csv')\n",
    "df.head()"
   ]
  },
  {
   "cell_type": "code",
   "execution_count": null,
   "id": "295267ba-4725-48fc-91da-0cb06ffadb53",
   "metadata": {},
   "outputs": [],
   "source": [
    "# Inhoud van de attributen analyseren, check wat describe() doet met het attribuut `origin`\n",
    "\n",
    "df.describe()"
   ]
  },
  {
   "cell_type": "code",
   "execution_count": null,
   "id": "5c4a28fd-401f-4c79-937b-78a4cfe78034",
   "metadata": {},
   "outputs": [],
   "source": [
    "# Drop name: die hebben we niet nodig \n",
    "\n",
    "df = df.drop('name', axis=1)"
   ]
  },
  {
   "cell_type": "code",
   "execution_count": null,
   "id": "b80b8394-eb32-41ce-8182-324b463f9bb8",
   "metadata": {},
   "outputs": [],
   "source": [
    "# Origin lijkt een numerieke waarde, maar het is een categorie. \n",
    "# Dit attribuut moeten we aanpassen voordat we het kunnen gebruiken voor lineaire regressie\n",
    "\n",
    "df = pd.get_dummies(df, columns=['origin'])\n",
    "df.head()"
   ]
  },
  {
   "cell_type": "code",
   "execution_count": null,
   "id": "03191593-7cd8-45b1-939e-672aa4a64c2a",
   "metadata": {
    "tags": [
     "student"
    ]
   },
   "outputs": [],
   "source": [
    "# Verkenning van de correlaties\n",
    "\n",
    "print(df.corr()['mpg'])\n",
    "\n",
    "plt.subplots(dpi=100)\n",
    "plt.scatter(df.displacement, df.mpg)\n",
    "plt.show()"
   ]
  },
  {
   "cell_type": "markdown",
   "id": "efaec84b-5628-4951-9c56-832820302038",
   "metadata": {},
   "source": [
    "1. Kies het juiste modeltype"
   ]
  },
  {
   "cell_type": "code",
   "execution_count": null,
   "id": "974c1bb1-bd24-496f-963e-8f0af55c35b0",
   "metadata": {
    "tags": [
     "student"
    ]
   },
   "outputs": [],
   "source": []
  },
  {
   "cell_type": "markdown",
   "id": "9bc05ba9-0ff9-435a-ac09-bfdd2f0c51a5",
   "metadata": {},
   "source": [
    "2. Kies de hyperparameters"
   ]
  },
  {
   "cell_type": "code",
   "execution_count": null,
   "id": "cee62068-52e5-432b-9ad6-70bf62080469",
   "metadata": {
    "tags": [
     "student"
    ]
   },
   "outputs": [],
   "source": []
  },
  {
   "cell_type": "markdown",
   "id": "9f3814c5-2a1b-4ace-926e-818c794c0c79",
   "metadata": {},
   "source": [
    "3. Organiseer de data: _features_ (eigenschappen) en _target_ (resultaat)"
   ]
  },
  {
   "cell_type": "code",
   "execution_count": null,
   "id": "52abac49-6100-43f6-a917-db7445361e95",
   "metadata": {
    "tags": [
     "student"
    ]
   },
   "outputs": [],
   "source": []
  },
  {
   "cell_type": "markdown",
   "id": "72e8f437-e3c0-4da6-868d-88e28e5c5703",
   "metadata": {},
   "source": [
    "4. Creëer een training- en validatieset"
   ]
  },
  {
   "cell_type": "code",
   "execution_count": null,
   "id": "7a6d590b-a980-43a3-82dc-ed2df9179df0",
   "metadata": {
    "tags": [
     "student"
    ]
   },
   "outputs": [],
   "source": []
  },
  {
   "cell_type": "markdown",
   "id": "45c41ad6-285e-43ec-9af0-8494d2f3e72c",
   "metadata": {},
   "source": [
    "5. Start het leerproces"
   ]
  },
  {
   "cell_type": "code",
   "execution_count": null,
   "id": "9b6e9fac-66ca-40a6-bccb-5b8681e1b64a",
   "metadata": {
    "tags": [
     "student"
    ]
   },
   "outputs": [],
   "source": []
  },
  {
   "cell_type": "markdown",
   "id": "4ee5f3f4-ba5c-4dc0-9865-f7d0e9e0cbe5",
   "metadata": {},
   "source": [
    "6. Valideer het model\n",
    "\n",
    "Bereken de determinatiecoëfficient $r^2$."
   ]
  },
  {
   "cell_type": "code",
   "execution_count": null,
   "id": "1308d6dc-e3c2-4f47-ad14-3f6e290a556d",
   "metadata": {
    "tags": [
     "student"
    ]
   },
   "outputs": [],
   "source": []
  },
  {
   "cell_type": "markdown",
   "id": "93a5143f-b055-497d-a02f-4fd2ec9b1b1f",
   "metadata": {},
   "source": [
    "Bereken de *root mean squared error*, gebruik makend van `mean_squared_error()`."
   ]
  },
  {
   "cell_type": "code",
   "execution_count": null,
   "id": "8f391990-f045-4762-81a4-3de1835aa995",
   "metadata": {
    "tags": [
     "student"
    ]
   },
   "outputs": [],
   "source": []
  },
  {
   "cell_type": "markdown",
   "id": "daaaf3d5-e97d-4d02-a64d-7ed9e1717629",
   "metadata": {},
   "source": [
    "Wat is de betekenis van dit getal?"
   ]
  },
  {
   "cell_type": "markdown",
   "id": "df85cefd-16a0-4bfa-a433-e647ad570bcc",
   "metadata": {
    "tags": [
     "student"
    ]
   },
   "source": []
  },
  {
   "cell_type": "markdown",
   "id": "44c1b5b3-beb5-466b-a45c-90b894b149be",
   "metadata": {},
   "source": [
    "Wat gebeurt er met de lineaire regressie als je andere _features_ kiest? Welke deelverzameling van kenmerken is het beste?\n"
   ]
  },
  {
   "cell_type": "code",
   "execution_count": null,
   "id": "b688401b-9946-42a7-bb64-c5861a5daa84",
   "metadata": {
    "tags": [
     "student"
    ]
   },
   "outputs": [],
   "source": []
  }
 ],
 "metadata": {
  "kernelspec": {
   "display_name": "Python 3 (ipykernel)",
   "language": "python",
   "name": "python3"
  },
  "language_info": {
   "codemirror_mode": {
    "name": "ipython",
    "version": 3
   },
   "file_extension": ".py",
   "mimetype": "text/x-python",
   "name": "python",
   "nbconvert_exporter": "python",
   "pygments_lexer": "ipython3",
   "version": "3.12.4"
  }
 },
 "nbformat": 4,
 "nbformat_minor": 5
}
