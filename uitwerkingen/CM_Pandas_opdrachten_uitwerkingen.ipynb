{
 "cells": [
  {
   "cell_type": "markdown",
   "metadata": {},
   "source": [
    "# CM3 Pandas Opdrachten\n",
    "\n",
    "In dit notebook vind je de volgende opdrachten\n",
    "- [Opdracht 1 - Series](#Opdracht-1-Series)\n",
    "- [Opdracht 2 - Dataframe](#Opdracht-2-Dataframe)\n",
    "- [Opdracht 3 - Cijfers](#Opdracht-3-Cijfers)\n",
    "- [Opdracht 4 - datetime](#Opdracht-4-datetime)\n"
   ]
  },
  {
   "cell_type": "markdown",
   "metadata": {},
   "source": [
    "## Opdracht 1 Series"
   ]
  },
  {
   "cell_type": "code",
   "execution_count": null,
   "metadata": {},
   "outputs": [],
   "source": [
    "import pandas as pd\n",
    "import numpy as np"
   ]
  },
  {
   "cell_type": "code",
   "execution_count": null,
   "metadata": {},
   "outputs": [],
   "source": [
    "#values = [7.0, 6.5, 9.0, 8.0]\n",
    "#index = [ 'DS', 'IAC', 'NET', 'IAC']\n",
    "values = [7.0, 6.5, 9.0]\n",
    "index = [ 'DS', 'IAC', 'NET']\n",
    "cijfers = pd.Series(values, index=index)\n",
    "cijfers"
   ]
  },
  {
   "cell_type": "markdown",
   "metadata": {},
   "source": [
    "- Haal het cijfer 6.5 op uit de Series door middel van:\n",
    "  1. de expliciete key methode\n",
    "  2. de impliciete key methode\n",
    "  3. rechtstreeks met de expliciete key\n",
    "  4. rechtstreeks met de impliciete key"
   ]
  },
  {
   "cell_type": "markdown",
   "metadata": {},
   "source": [
    "- Retourneer de cijfers van de laatste twee vakken uit de Series."
   ]
  },
  {
   "cell_type": "code",
   "execution_count": null,
   "metadata": {
    "tags": [
     "student"
    ]
   },
   "outputs": [],
   "source": [
    "# cijfer 6.5\n",
    "c1 = cijfers.loc['IAC'] # expliciete key - loc met inhoudelijke waardes\n",
    "c2 = cijfers.iloc[1]    # impliciete key (rijvolgnummer) - loc met rijvolgnummer\n",
    "c3 = cijfers['IAC']     # rechtsteeks sleutel - rechtstreeks met inhoudelijke waarde\n",
    "c3"
   ]
  },
  {
   "cell_type": "markdown",
   "metadata": {},
   "source": [
    "- Retouneer de cijfers van de laatste twee vakken uit de Series."
   ]
  },
  {
   "cell_type": "code",
   "execution_count": null,
   "metadata": {
    "tags": [
     "student"
    ]
   },
   "outputs": [],
   "source": [
    "cijfers[1:]"
   ]
  },
  {
   "cell_type": "markdown",
   "metadata": {},
   "source": [
    "- Bepaal gemiddelde, mediaan, minimum en maximum van de cijfers."
   ]
  },
  {
   "cell_type": "code",
   "execution_count": null,
   "metadata": {
    "tags": [
     "student"
    ]
   },
   "outputs": [],
   "source": [
    "# gemiddelde cijfer\n",
    "gem = cijfers.mean()\n",
    "med = cijfers.median()\n",
    "min = cijfers.min()\n",
    "max = cijfers.max()\n",
    "print(\"Gemiddeld: {} mediaan: {}, min: {}, max: {}\".format(gem,med,min,max))"
   ]
  },
  {
   "cell_type": "markdown",
   "metadata": {},
   "source": [
    "## Opdracht 2 Dataframe "
   ]
  },
  {
   "cell_type": "code",
   "execution_count": null,
   "metadata": {},
   "outputs": [],
   "source": [
    "student1 = pd.Series({'Nummer':'s1', 'Naam':'Joop', 'Tentamen':99.9, 'Opdracht': 7.5})\n",
    "student2 = pd.Series({'Nummer':'s2', 'Naam':'Piet', 'Tentamen':8.0, 'Opdracht': 7.0})\n",
    "student3 = pd.Series({'Nummer': None, 'Naam':'Fout', 'Tentamen':99.9, 'Opdracht': 99.9})\n",
    "student4 = pd.Series({'Nummer':'s3', 'Naam':'Kees', 'Tentamen':4.0, 'Opdracht': 6.0})\n",
    "studenten = pd.DataFrame([student1, student2,student3, student4])\n",
    "studenten"
   ]
  },
  {
   "cell_type": "markdown",
   "metadata": {},
   "source": [
    "- Bepaal het totaal aantal niet-bestaande waarden."
   ]
  },
  {
   "cell_type": "code",
   "execution_count": null,
   "metadata": {},
   "outputs": [],
   "source": [
    "studenten.info()"
   ]
  },
  {
   "cell_type": "markdown",
   "metadata": {},
   "source": [
    "- Zet de opdracht- en tentamencijfers met waarde 99.9 om naar NaN waarde"
   ]
  },
  {
   "cell_type": "code",
   "execution_count": null,
   "metadata": {},
   "outputs": [],
   "source": [
    "studenten.loc[studenten[\"Tentamen\"]==99.9, \"Tentamen\"] = np.nan\n",
    "studenten"
   ]
  },
  {
   "cell_type": "code",
   "execution_count": null,
   "metadata": {},
   "outputs": [],
   "source": [
    "#of:\n",
    "studenten.replace(99.9, np.nan)"
   ]
  },
  {
   "cell_type": "markdown",
   "metadata": {},
   "source": [
    "- Haal de missing values uit het DataFrame"
   ]
  },
  {
   "cell_type": "code",
   "execution_count": null,
   "metadata": {},
   "outputs": [],
   "source": [
    "studenten.dropna(inplace = True, axis = 0)\n",
    "studenten"
   ]
  },
  {
   "cell_type": "markdown",
   "metadata": {},
   "source": [
    "- Zet `Nummer` als index."
   ]
  },
  {
   "cell_type": "code",
   "execution_count": null,
   "metadata": {},
   "outputs": [],
   "source": [
    "studenten.set_index('Nummer', inplace = True)"
   ]
  },
  {
   "cell_type": "markdown",
   "metadata": {},
   "source": [
    "- Het eindcijfer van het vak is 70% tentamen en 30% opdracht; voeg dit als kolom `Eindcijfer` toe"
   ]
  },
  {
   "cell_type": "code",
   "execution_count": null,
   "metadata": {},
   "outputs": [],
   "source": [
    "studenten['Eindcijfer'] = 0.7*studenten['Tentamen'] + 0.3*studenten['Opdracht']\n",
    "studenten"
   ]
  },
  {
   "cell_type": "markdown",
   "metadata": {},
   "source": [
    "- Bepaal het gemiddelde eindcijfer"
   ]
  },
  {
   "cell_type": "code",
   "execution_count": null,
   "metadata": {},
   "outputs": [],
   "source": [
    "np.mean(studenten['Eindcijfer'])"
   ]
  },
  {
   "cell_type": "markdown",
   "metadata": {},
   "source": [
    "- Wat geeft `studenten.describe()` weer?"
   ]
  },
  {
   "cell_type": "code",
   "execution_count": null,
   "metadata": {},
   "outputs": [],
   "source": [
    "studenten.describe()"
   ]
  },
  {
   "cell_type": "markdown",
   "metadata": {},
   "source": [
    "- Selecteer alle namen en cijfers van de studenten met een voldoende als eindcijfer."
   ]
  },
  {
   "cell_type": "code",
   "execution_count": null,
   "metadata": {},
   "outputs": [],
   "source": [
    "studenten.loc[studenten['Eindcijfer']>5.5, [\"Naam\", \"Eindcijfer\"]]"
   ]
  },
  {
   "cell_type": "markdown",
   "metadata": {},
   "source": [
    "## Opdracht 3 Cijfers\n",
    "\n",
    "Numpy arrays kunnen alleen uniforme waarden bevatten. Pandas arrays kunnen juist meer bevatten. We doen de opdracht in numpy nu in pandas. Tip: maak gebruik van de cheat sheets!\n",
    "\n",
    "Aanvullende bron:\n",
    "-\thttp://nbviewer.jupyter.org/github/justmarkham/pandas-videos/blob/master/pandas.ipynb "
   ]
  },
  {
   "cell_type": "markdown",
   "metadata": {},
   "source": [
    "De blokcoördinator D.O. Cent van blok A, SIE-V2  wil graag de cijfers analyseren en verwerken. het blok bestaat uit 3 vakken, die door 10 studenten gevolgd zijn. Analyse omvat o.a. het bepalen van gemiddelde cijfer, het aantal voldoendes en cursusrendement. De verwerking bestaat uit het corrigeren van de cijfers. \n",
    "\n",
    "\n",
    "In `blokAcijfers.txt` staan de cijfers per vak (naast elkaar staan de vakken, onder elkaar de studenten):\n",
    "\n",
    "vak1 | vak2 | vak3\n",
    "----|-------|------\n",
    "6.5 | 7.3   | 6.4\n",
    "8.0 | 8.0\t| 8.5\n",
    "3.2\t| 4.0\t| 5.0\n",
    "7.9\t| 7.1\t| 3.5\n",
    "7.3\t| 7.8\t| 8.0\n",
    "8.6\t| 8.0\t| 9.0\n",
    "4.0\t| 6.0\t| 5.5\n",
    "7.3\t| 7.8\t| 7.8\n",
    "4.5\t| 5.6\t| 7.7\n",
    "5.0\t| 7.0\t| 7.2\n",
    "\n",
    "In `blokAStudenten.csv` staan de studentgegevens:\n",
    "\n",
    "\"Studentnr\"|\"Naam\"|\"Vooropleiding\"\n",
    "--|--|--\n",
    "1502000|\"Jan Jansen\"|\"HAVO\"\n",
    "1501677|\"Ali ElMoune\"|\"MBO\"\n",
    "1503190|\"Bert de Graaf\"|\"HAVO\"\n",
    "1506700|\"Koos Alberts\"|\"MBO\"\n",
    "1504503|\"Willie Napoli\"|\"MBO\"\n",
    "1507878|\"Jorrit Beeks\"|\"VWO\"\n",
    "1502507|\"Frits Wielenga\"|\"HAVO\"\n",
    "1503684|\"Cornee Nijsten\"|\"VWO\"\n",
    "1503831|\"Sabine Honing\"|\"HAVO\"\n",
    "1506001|\"George Belfore\"|\"HAVO\""
   ]
  },
  {
   "cell_type": "code",
   "execution_count": null,
   "metadata": {},
   "outputs": [],
   "source": [
    "# Deze imports zijn nodig voor de opdracht.\n",
    "import pandas as pd\n",
    "import numpy as np"
   ]
  },
  {
   "cell_type": "markdown",
   "metadata": {},
   "source": [
    "De docent wil de gegevens in een Jupyter Notebook verwerken.\n",
    "-\tLees tekstbestand: blokAcijfers.txt in, in een dataframe `cijfers`.\n",
    "-\tLaat zien dat de gegevens goed ingelezen zijn.\n",
    "-\tWijzig de kolomnrs in de vaknamen: vakken = ['RAD','ANA', CBA'].\n",
    "-\tToon de dataframe attributen.\n",
    "-\tToon de index gegevens."
   ]
  },
  {
   "cell_type": "code",
   "execution_count": null,
   "metadata": {},
   "outputs": [],
   "source": [
    "cijfers = pd.read_csv('blokAcijfers.txt', sep=\"\\t\", names = [\"RAD\",\"ANA\",\"CBA\"])\n",
    "cijfers"
   ]
  },
  {
   "cell_type": "markdown",
   "metadata": {},
   "source": [
    "De docent ziet dat er 2 cijfers fout zijn en wil deze corrigeren (NB. Elke regel heeft een numeriek index gelijk aan het regelnummer.)\n",
    "-\t Wijzig de volgende cijfers\t\t\t\t\t\t\t\n",
    "    *\tvak-2, student-3  cijfer 4.0 moet 4.3 worden.\n",
    "    *\tvak-1, student-10, cijfer 5.0 moet 4.8 worden."
   ]
  },
  {
   "cell_type": "code",
   "execution_count": null,
   "metadata": {},
   "outputs": [],
   "source": [
    "cijfers.loc[2, 'ANA'] = 4.3\n",
    "cijfers.loc[9, 'RAD'] = 4.8"
   ]
  },
  {
   "cell_type": "markdown",
   "metadata": {},
   "source": [
    "De docent wil de studentgegevens ook aan het dataframe toevoegen.\n",
    "-\tLees tekstbestand: `blokAStudenten.csv` in, in een dataframe `studenten`. Let op dat je de juiste instellingen voor sep en header meegeeft.\n",
    "-\tLaat zien dat de gegevens correct zijn ingelezen."
   ]
  },
  {
   "cell_type": "code",
   "execution_count": null,
   "metadata": {},
   "outputs": [],
   "source": [
    "studenten = pd.read_csv('blokAStudenten.csv', sep = \";\")\n",
    "studenten"
   ]
  },
  {
   "cell_type": "markdown",
   "metadata": {},
   "source": [
    "Nu gaan we ``studenten`` en ``cijfers`` samenvoegen tot een cijferslijst. We mogen er vanuitgaan dat de volgorde van beiden dezelfde index hebben (hier de rijwaarde 0 t/m 9).\n",
    "-\tCombineer de beide dataframes met behulp van `p.merge()`:\n",
    "    *\tJe kunt hier een inner join gebruiken.\n",
    "    *\tJe kunt van beide zijden de index gebruiken .\n",
    "-\tLaat zien dat de gegevens correct zijn samengevoegd tot één dataframe cijferlijst met de kolommen: `Studentnr`; `Naam`; `Vooropleiding`; `RAD`; `ANA`; en `CBA`."
   ]
  },
  {
   "cell_type": "code",
   "execution_count": null,
   "metadata": {},
   "outputs": [],
   "source": [
    "cijferlijst = studenten.merge(cijfers, how = \"inner\", left_index = True, right_index = True)\n",
    "cijferlijst"
   ]
  },
  {
   "cell_type": "markdown",
   "metadata": {},
   "source": [
    "Het is handig om een dataframe een sprekende index te geven:\n",
    "-\tMaak `Studentnr` de rij-index. NB. Gebruik indien nodig de optie `inplace=True`."
   ]
  },
  {
   "cell_type": "code",
   "execution_count": null,
   "metadata": {},
   "outputs": [],
   "source": [
    "cijferlijst.set_index(\"Studentnr\", inplace = True)"
   ]
  },
  {
   "cell_type": "markdown",
   "metadata": {},
   "source": [
    "De docent wil wat basisgegevens: minimum, maximum, gemiddelde van de cijfers weten. Het grote voordeel is dat numpy heel goed kan omgaan met de numerieke kolommen van een dataframe. Voorbeeld: het berekenen van het gemiddelde cijfer voor het vak ‘RAD’ kan met de opdracht: `np.mean(cijferlijst['RAD']`.\n",
    "-\tBepaal minimum, maximum en gemiddelde van alle cijfers.\n",
    "-\tBepaal minimum, maximum en gemiddelde van elk vak (3 getallen).\n",
    "-\tBepaal minimum, maximum en gemiddelde van elke student (10 getallen)."
   ]
  },
  {
   "cell_type": "code",
   "execution_count": null,
   "metadata": {},
   "outputs": [],
   "source": [
    "#per student\n",
    "cijferlijst[[\"RAD\", \"ANA\", \"CBA\"]].mean(axis = 1)"
   ]
  },
  {
   "cell_type": "code",
   "execution_count": null,
   "metadata": {},
   "outputs": [],
   "source": [
    "np.min(cijferlijst[[\"RAD\", \"ANA\", \"CBA\"]], axis = 1)"
   ]
  },
  {
   "cell_type": "code",
   "execution_count": null,
   "metadata": {},
   "outputs": [],
   "source": [
    "np.max(cijferlijst[[\"RAD\", \"ANA\", \"CBA\"]], axis = 1)"
   ]
  },
  {
   "cell_type": "code",
   "execution_count": null,
   "metadata": {},
   "outputs": [],
   "source": [
    "#per vak\n",
    "np.mean(cijferlijst[[\"RAD\", \"ANA\", \"CBA\"]], axis = 0)"
   ]
  },
  {
   "cell_type": "markdown",
   "metadata": {},
   "source": [
    "Er is een fout gemaakt bij de cijfers van het 1e vak (RAD). Iedere student krijgt 0.5 punt extra erbij.\n",
    "-\tDoe dit met één opdrachtregel."
   ]
  },
  {
   "cell_type": "code",
   "execution_count": null,
   "metadata": {},
   "outputs": [],
   "source": [
    "cijferlijst['RAD'] = cijferlijst['RAD'] + 0.5"
   ]
  },
  {
   "cell_type": "markdown",
   "metadata": {},
   "source": [
    "De docent wil graag weten of er verschil in studentprestaties is afhankelijk van de vooropleiding. \n",
    "-\tToon voor elk vak het vooropleiding groepsgemiddelde.\n",
    "-\tWat is je conclusie ?"
   ]
  },
  {
   "cell_type": "code",
   "execution_count": null,
   "metadata": {},
   "outputs": [],
   "source": [
    "cijferlijst[[\"Vooropleiding\", \"ANA\", \"RAD\", \"CBA\"]]"
   ]
  },
  {
   "cell_type": "code",
   "execution_count": null,
   "metadata": {},
   "outputs": [],
   "source": [
    "cijferlijst[[\"Vooropleiding\", \"ANA\", \"RAD\", \"CBA\"]].groupby(\"Vooropleiding\").agg('mean')"
   ]
  },
  {
   "cell_type": "markdown",
   "metadata": {
    "tags": [
     "student"
    ]
   },
   "source": [
    "Conclusie:"
   ]
  },
  {
   "cell_type": "markdown",
   "metadata": {},
   "source": [
    "## Opdracht 4 datetime\n",
    "\n",
    "Maak een Jupyter notebook waarin je met Pandas de volgende casus realiseert: een storingsmedewerker wil graag onderzoeken hoe het weer geweest is op 1 Januari 2017. Hiervoor vraagt hij bij het KNMI de weergegevens op van drie meetstations.\n",
    "\n",
    "Aanvullende bronnen:\n",
    "- http://chrisalbon.com/python/pandas_time_series_basics.html\n",
    "- http://chrisalbon.com/python/date_and_time_basics.html\n",
    "- http://chrisalbon.com/python/pandas_group_by_time.html "
   ]
  },
  {
   "cell_type": "code",
   "execution_count": null,
   "metadata": {},
   "outputs": [],
   "source": [
    "# Aanvullende imports\n",
    "import datetime as dt\n",
    "import matplotlib.pyplot as pyplot\n",
    "\n",
    "# De data die we gaan gebruiken.\n",
    "data = {'meetpunt': ['De Bilt','Maastricht', 'Leeuwarden',\n",
    "                     'De Bilt','Maastricht', 'Leeuwarden',\n",
    "                     'De Bilt','Maastricht', 'Leeuwarden',\n",
    "                     'De Bilt','Maastricht', 'Leeuwarden'],\n",
    "        'datum': ['2017-01-01 13:00:05.069722', '2017-01-01 13:00:01.119994', '2017-01-01 13:00:07.178768',\n",
    "                  '2017-01-02 13:00:01.043200', '2017-01-02 13:00:03.119401', '2017-01-02 13:00:03.876898',\n",
    "                  '2017-01-03 13:00:03.043450', '2017-01-03 13:00:02.669401', '2017-01-03 13:00:01.321898',\n",
    "                  '2017-01-04 13:00:04.042015', '2017-01-04 13:00:04.321564', '2017-01-04 13:00:04.394866'],\n",
    "        'temperatuur': [-0.3, 1.9, 0.8,\n",
    "                        1.8, 7.1, 5.7,\n",
    "                        2.9, 7.3, 5.1,\n",
    "                        0.1, 6.8, 2.1,]}"
   ]
  },
  {
   "cell_type": "markdown",
   "metadata": {},
   "source": [
    "Bewerk de data zodat deze netjes in een dataframe komt.\n",
    "-\tMaak een dataframe met kolommen: ‘datum’, ‘temperatuur, ‘meetpunt’.\n",
    "-\tMaak van de datum kolom een kolom met datatype datetime."
   ]
  },
  {
   "cell_type": "code",
   "execution_count": null,
   "metadata": {},
   "outputs": [],
   "source": [
    "df = pd.DataFrame(data)\n",
    "df['datum'] = pd.to_datetime(df['datum'])"
   ]
  },
  {
   "cell_type": "markdown",
   "metadata": {},
   "source": [
    "Doe de volgende analyse op de datum gegevens.\n",
    "-\tHaal de eerste datumwaarde uit de tabel.\n",
    "-\tBepaal van de eerste datumwaarden: jaar, maand, dag, uur, minuut en seconde.\n",
    "-\tBepaal het tijdsverschil tussen de 1e en laatste waarde.\n",
    "-\tBepaal van het tijdsverschil het aantal dagen.\n",
    "-\tBepaal van het tijdsverschil het aantal uren."
   ]
  },
  {
   "cell_type": "code",
   "execution_count": null,
   "metadata": {},
   "outputs": [],
   "source": [
    "datum = df['datum'].iloc[0]"
   ]
  },
  {
   "cell_type": "code",
   "execution_count": null,
   "metadata": {},
   "outputs": [],
   "source": [
    "datum"
   ]
  },
  {
   "cell_type": "code",
   "execution_count": null,
   "metadata": {},
   "outputs": [],
   "source": [
    "verschil = df['datum'].iloc[-1] - df['datum'].iloc[0]\n",
    "verschil"
   ]
  },
  {
   "cell_type": "code",
   "execution_count": null,
   "metadata": {},
   "outputs": [],
   "source": [
    "verschil/pd.Timedelta(1,'h')"
   ]
  },
  {
   "cell_type": "markdown",
   "metadata": {},
   "source": [
    "De storingsmedewerker wil graag de volgende gegevens van dagen. Daarom is het handig om de dataframe te voorzien van een index. Voer dan de volgende opdrachten uit en verklaar deze.\n",
    "\n",
    "-\tMaak van de datum kolom een index.\n",
    "-\tDe temperaturen op 1 januari.\n",
    "-\tDe temperaturen na 3 januari.\n",
    "-\tDe temperatuur gemiddeld per dag .\n",
    "-\tLeg nu zelf uit wat de functie shift() doet.\n",
    "-\tHaal de datum kolom index weer weg."
   ]
  },
  {
   "cell_type": "code",
   "execution_count": null,
   "metadata": {},
   "outputs": [],
   "source": [
    "df.set_index('datum', inplace = True)"
   ]
  },
  {
   "cell_type": "code",
   "execution_count": null,
   "metadata": {},
   "outputs": [],
   "source": [
    "df"
   ]
  },
  {
   "cell_type": "code",
   "execution_count": null,
   "metadata": {},
   "outputs": [],
   "source": [
    "df.loc['2017-01-01']"
   ]
  },
  {
   "cell_type": "code",
   "execution_count": null,
   "metadata": {},
   "outputs": [],
   "source": [
    "df.sort_index(inplace = True)"
   ]
  },
  {
   "cell_type": "code",
   "execution_count": null,
   "metadata": {},
   "outputs": [],
   "source": [
    "df.loc['2017-01-03':]"
   ]
  },
  {
   "cell_type": "code",
   "execution_count": null,
   "metadata": {},
   "outputs": [],
   "source": [
    "df[\"temperatuur\"].resample('D').agg(['mean','max'])"
   ]
  },
  {
   "cell_type": "code",
   "execution_count": null,
   "metadata": {},
   "outputs": [],
   "source": [
    "df.shift(5,'d')"
   ]
  }
 ],
 "metadata": {
  "celltoolbar": "Tags",
  "kernelspec": {
   "display_name": "Python 3 (ipykernel)",
   "language": "python",
   "name": "python3"
  },
  "language_info": {
   "codemirror_mode": {
    "name": "ipython",
    "version": 3
   },
   "file_extension": ".py",
   "mimetype": "text/x-python",
   "name": "python",
   "nbconvert_exporter": "python",
   "pygments_lexer": "ipython3",
   "version": "3.12.4"
  }
 },
 "nbformat": 4,
 "nbformat_minor": 4
}
