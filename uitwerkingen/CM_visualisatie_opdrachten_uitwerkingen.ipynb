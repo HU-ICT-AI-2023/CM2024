{
 "cells": [
  {
   "cell_type": "markdown",
   "metadata": {},
   "source": [
    "# Visualisatie - opdrachten\n",
    "\n",
    "In dit notebook vind je twee opdrachten.\n",
    "- <a href=\"#vis_opdracht1\"> Opdracht 1 </a>  maak je ter voorbereiding van het college.\n",
    "- <a href=\"#vis_opdracht2\"> Opdracht 2 </a> is voor in het college."
   ]
  },
  {
   "cell_type": "markdown",
   "metadata": {},
   "source": [
    "<a id=\"vis_opdracht1\"></a>\n",
    "## Opdracht 1"
   ]
  },
  {
   "cell_type": "markdown",
   "metadata": {},
   "source": [
    "Maak onderstaande figuur met matplotlib:\n",
    "\n",
    "<img src=\"vis_opdracht1.jpg\" alt=\"Verkoop Oost-Azie\" />"
   ]
  },
  {
   "cell_type": "markdown",
   "metadata": {},
   "source": [
    "Merk op:\n",
    "\n",
    "- De cijfers 1 t/m 7 hoef je niet te plotten :-)\n",
    "- Maak gebruik van de functionaliteiten van matplotlib: ga dus niet zelf balkjes en lijntjes tekenen in Python!!\n",
    "- Je kunt matplotlib op twee manieren gebruiken: als script of met objecten. Kies er een. Of doe ze allebei."
   ]
  },
  {
   "cell_type": "code",
   "execution_count": null,
   "metadata": {},
   "outputs": [],
   "source": [
    "import numpy as np\n",
    "import matplotlib.pyplot as plt\n",
    "%matplotlib inline"
   ]
  },
  {
   "cell_type": "code",
   "execution_count": null,
   "metadata": {},
   "outputs": [],
   "source": [
    "# Data\n",
    "c_2005 = (20000, 18000, 15000, 24000)\n",
    "c_2006 = (22000, 25000, 21000, 28000)\n",
    "c_2007 = (25000, 23000, 24000, 30000)\n",
    "index = np.arange(4)"
   ]
  },
  {
   "cell_type": "markdown",
   "metadata": {},
   "source": [
    "#### Methode 1. Script"
   ]
  },
  {
   "cell_type": "code",
   "execution_count": null,
   "metadata": {},
   "outputs": [],
   "source": [
    "# Voorbeeld staafdiagram\n",
    "plt.bar([1, 2], [200, 100])"
   ]
  },
  {
   "cell_type": "code",
   "execution_count": null,
   "metadata": {
    "tags": [
     "student"
    ]
   },
   "outputs": [],
   "source": [
    "bar_width = 0.25\n",
    "\n",
    "plt.figure(figsize=(6,4))\n",
    "\n",
    "# Data\n",
    "plt.bar(index, c_2005, bar_width, color='b', label='2005')\n",
    "plt.bar(index + bar_width, c_2006, bar_width, color='r', label='2006')\n",
    "plt.bar(index + 2*bar_width, c_2007, bar_width, color='g', label='2007')\n",
    "\n",
    "# Assen\n",
    "plt.xlabel('Verkoop per kwartaal')\n",
    "plt.ylabel('')\n",
    "plt.title('Verkoop Oost-Azië')\n",
    "plt.xticks(index+bar_width, ('Q1', 'Q2', 'Q3', 'Q4'))\n",
    "\n",
    "# Legenda\n",
    "plt.legend(bbox_to_anchor=(1.22, 0.3))\n",
    "\n",
    "# Text\n",
    "plt.text(4, 28000, \"Kwartaal Q4 \\n uitstekende \\n verkoopcijfers\", \n",
    "         bbox=dict(boxstyle=\"round,pad=0.3\", fc=\"w\", ec=\"g\", lw=2))\n",
    "\n",
    "plt.show()"
   ]
  },
  {
   "cell_type": "markdown",
   "metadata": {},
   "source": [
    "#### Methode 2. Object-georienteerd"
   ]
  },
  {
   "cell_type": "code",
   "execution_count": null,
   "metadata": {
    "tags": [
     "student"
    ]
   },
   "outputs": [],
   "source": [
    "bar_width = 0.25\n",
    "fig, ax = plt.subplots(figsize=(6,4))\n",
    "\n",
    "# Data\n",
    "ax.bar(index, c_2005, bar_width, color='b', label='2005')\n",
    "ax.bar(index + bar_width, c_2006, bar_width, color='r', label='2006')\n",
    "ax.bar(index + 2*bar_width, c_2007, bar_width, color='g', label='2007')\n",
    "\n",
    "# Assen\n",
    "ax.set(title='Verkoop Oost-Azië')\n",
    "ax.xaxis.set(label='Verkoop per kwartaal',\n",
    "             ticks=index+bar_width,\n",
    "             ticklabels=('Q1', 'Q2', 'Q3', 'Q4'))\n",
    "\n",
    "# Legenda\n",
    "ax.legend(bbox_to_anchor=(1.22, 0.3))\n",
    "\n",
    "# Text box\n",
    "ax.text(4, 28000, \"Kwartaal Q4 \\n uitstekende \\n verkoopcijfers\", \n",
    "         bbox=dict(boxstyle=\"round,pad=0.3\", fc=\"w\", ec=\"g\", lw=2))\n",
    "\n",
    "plt.show()"
   ]
  },
  {
   "cell_type": "markdown",
   "metadata": {},
   "source": [
    "<a id=\"vis_opdracht2\"></a>\n",
    "## Opdracht 2 - vervolg toetsuitslagen"
   ]
  },
  {
   "cell_type": "markdown",
   "metadata": {},
   "source": [
    "Tijdens college 4 hebben we gekeken naar de toetsuitslagen van een eerstejaarsvak. We gaan hier nu mee verder gaan de theorie van correlatie en visualisatie in de praktijk brengen.\n",
    "\n",
    "Hiervoor introduceren we twee aanvullende datasets:\n",
    "1. De toetsuitslagen van een tweede eerstejaarsvak: Computer Systems and Networks (CSN)\n",
    "2. De klassenindeling\n",
    "\n"
   ]
  },
  {
   "cell_type": "code",
   "execution_count": null,
   "metadata": {},
   "outputs": [],
   "source": [
    "# Bibliotheken\n",
    "from datetime import datetime\n",
    "import pandas as pd\n",
    "import numpy as np\n",
    "import scipy as sp\n",
    "from scipy import stats\n",
    "import matplotlib.pyplot as plt\n",
    "import holoviews as hv\n",
    "\n",
    "%matplotlib inline\n",
    "hv.extension('bokeh')"
   ]
  },
  {
   "cell_type": "markdown",
   "metadata": {},
   "source": [
    "### Voorbereidingen\n",
    "\n",
    "Voordat we starten met de extra opgaven, moeten we eerst de datasets inladen en de acties op de dataset van de vorige keer opnieuw uitvoeren."
   ]
  },
  {
   "cell_type": "code",
   "execution_count": null,
   "metadata": {},
   "outputs": [],
   "source": [
    "# Naast de cijferlijst van PROG, laden we ook de cijferlijst van CSN in\n",
    "uitslag_csn = pd.read_excel(\"uitslag_csn.xlsx\")\n",
    "uitslag_prog = pd.read_excel(\"uitslag_prog.xlsx\")"
   ]
  },
  {
   "cell_type": "code",
   "execution_count": null,
   "metadata": {},
   "outputs": [],
   "source": [
    "# Code voor het hernoemen\n",
    "columns=lambda x: x[1:]\n",
    "\n",
    "replacements = {\"Score.\" + str(i) : \"Score_\" + str(i+1)  for i in range(1, 40)}\n",
    "replacements[\"Score\"] = \"Score_1\"\n",
    "\n",
    "# Hernoemen van de columns van het dataframe\n",
    "uitslag_prog.rename(columns=replacements, inplace=True)\n",
    "uitslag_csn.rename(columns=replacements, inplace=True)\n",
    "\n",
    "# Studentnummer herformatten\n",
    "uitslag_prog['StudentNummer'] = uitslag_prog['StudentNummer'].astype('category')\n",
    "uitslag_csn['StudentNummer'] = uitslag_csn['StudentNummer'].astype('category')\n",
    "\n",
    "# Eindtijd herformatten\n",
    "uitslag_prog['Eindtijd'] = pd.to_datetime(uitslag_prog['Eindtijd'])\n",
    "uitslag_csn['Eindtijd'] = pd.to_datetime(uitslag_csn['Eindtijd'])"
   ]
  },
  {
   "cell_type": "code",
   "execution_count": null,
   "metadata": {},
   "outputs": [],
   "source": [
    "# Eindcijfers toevoegen\n",
    "uitslag_prog['Cijfer'] = (9/30)*(uitslag_prog.loc[:,'Score_1':'Score_40'].sum(1) - 10) + 1\n",
    "uitslag_prog['Eindcijfer'] = np.maximum( uitslag_prog['Cijfer'], [1]*uitslag_prog.shape[0] )\n",
    "uitslag_csn['Cijfer'] = (9/30)*(uitslag_csn.loc[:,'Score_1':'Score_40'].sum(1) - 10) + 1\n",
    "uitslag_csn['Eindcijfer'] = np.maximum( uitslag_csn['Cijfer'], [1]*uitslag_csn.shape[0] )"
   ]
  },
  {
   "cell_type": "markdown",
   "metadata": {},
   "source": [
    "### Correlatie tussen CSN en PROG\n",
    "We gaan kijken of er een correlatie is tussen de resultaten van studenten voor CSN en PROG. Is het zo dat studenten altijd een laag / gemiddeld / hoog cijfer halen voor zowel CSN als PROG? Of is er geen samenhang?\n",
    "\n",
    "\n",
    "Bepaal of er een correlatie tussen de cijfers van CSN en PROG? Geef dat ook visueel weer. **Tip**: zorg ervoor dat studenten die niet aan beide toetsen hebben deelgenomen worden genegeerd. "
   ]
  },
  {
   "cell_type": "code",
   "execution_count": null,
   "metadata": {
    "tags": [
     "student"
    ]
   },
   "outputs": [],
   "source": [
    "uitslag_prog.head()"
   ]
  },
  {
   "cell_type": "code",
   "execution_count": null,
   "metadata": {},
   "outputs": [],
   "source": [
    "uitslag_csn.head()"
   ]
  },
  {
   "cell_type": "code",
   "execution_count": null,
   "metadata": {},
   "outputs": [],
   "source": [
    "cijfers = pd.merge(uitslag_prog, uitslag_csn, on = \"StudentNummer\", how = \"inner\", suffixes=('_csn', '_prog'))"
   ]
  },
  {
   "cell_type": "code",
   "execution_count": null,
   "metadata": {
    "tags": [
     "student"
    ]
   },
   "outputs": [],
   "source": [
    "cijfers.plot.scatter('Eindcijfer_prog', 'Eindcijfer_csn')"
   ]
  },
  {
   "cell_type": "code",
   "execution_count": null,
   "metadata": {},
   "outputs": [],
   "source": [
    "#met holoviews\n",
    "scatter = hv.Scatter(cijfers,'Eindcijfer_prog', 'Eindcijfer_csn') \n",
    "scatter"
   ]
  },
  {
   "cell_type": "markdown",
   "metadata": {},
   "source": [
    "\n",
    "Hoeveel procent van de variabiliteit tussen de cijfers kunnen we verklaren met een linear verband?\n"
   ]
  },
  {
   "cell_type": "code",
   "execution_count": null,
   "metadata": {
    "tags": [
     "student"
    ]
   },
   "outputs": [],
   "source": [
    "cijfers[['Eindcijfer_prog', 'Eindcijfer_csn']].corr()"
   ]
  },
  {
   "cell_type": "markdown",
   "metadata": {},
   "source": [
    "### Klasgegevens\n",
    "Er is een derde databestand beschikbaar met voor elke student diens klas. Extra informatie betekent extra mogelijkheden voor leuke analyses.\n",
    "\n",
    "We moeten eerst de klassenlijst importeren en koppelen aan het uitslagen dataframe."
   ]
  },
  {
   "cell_type": "code",
   "execution_count": null,
   "metadata": {},
   "outputs": [],
   "source": [
    "# De klassenlijst laden we eerst in\n",
    "\n",
    "klassenlijst = pd.read_excel(\"klassenindeling.xlsx\")\n",
    "klassenlijst.head()"
   ]
  },
  {
   "cell_type": "code",
   "execution_count": null,
   "metadata": {},
   "outputs": [],
   "source": [
    "# Er zitten een aantal studenten dubbel in de dataset, die gaan we eerst verwijderen\n",
    "\n",
    "klassenlijst.drop_duplicates(subset='StudentNummer',inplace=True)"
   ]
  },
  {
   "cell_type": "code",
   "execution_count": null,
   "metadata": {
    "scrolled": true
   },
   "outputs": [],
   "source": [
    "# Omdat we hier ons uitslagen dataframe gaan samenvoegen met de klassenlijst, is het handig om tot een\n",
    "# gezamelijke index te komen. In ons geval is  StudentNummer een geschikte kandidaat.\n",
    "uitslagen = cijfers\n",
    "uitslagen = uitslagen.set_index('StudentNummer')\n",
    "klassenlijst = klassenlijst.set_index('StudentNummer')"
   ]
  },
  {
   "cell_type": "code",
   "execution_count": null,
   "metadata": {},
   "outputs": [],
   "source": [
    "# We mergen de twee datasets tot een nieuwe dataset. \n",
    "# Helaas gaan hier een aantal studenten verloren: waarschijnlijk zijn er herkansers voor wie geen klas bekend is \n",
    "\n",
    "uitslagen_klas = pd.merge(uitslagen, klassenlijst, how='inner', on='StudentNummer') "
   ]
  },
  {
   "cell_type": "markdown",
   "metadata": {},
   "source": [
    "\n",
    "Een van de docenten vraagt zich af welke klas het *beste* is.\n",
    "\n",
    "Maak een visualisatie waarmee in **één oogopslag** kunt zien welke klas het beste gescoord heeft op CSN én PROG.\n",
    "\n",
    "**Tip:** denk eerst goed na *welk* type visualisatie hier het meest geschikt voor is, voordat je gaat knallen met MatplotLib...! "
   ]
  },
  {
   "cell_type": "code",
   "execution_count": null,
   "metadata": {
    "tags": [
     "student"
    ]
   },
   "outputs": [],
   "source": [
    "# De vraag is wat het 'beste' betekent. De hoogste cijfers? Het hoogste slagingspercentage? \n",
    "# Dat is een vraag die een product owner moet beantwoorden!\n",
    "\n",
    "# Hieronder gaan we uit van het slagingspercentage. \n",
    "# Dat is niet bekend, dus daarvoor moeten we eerst data toevoegen.\n",
    "# Te beginnen met een indicator of iemand geslaagd is of niet.\n",
    "\n",
    "uitslagen_klas['Voldoende_csn'] = np.where(uitslagen_klas['Eindcijfer_csn']>=5.5, 1, 0)\n",
    "uitslagen_klas['Voldoende_prog'] = np.where(uitslagen_klas['Eindcijfer_prog']>=5.5, 1, 0)"
   ]
  },
  {
   "cell_type": "code",
   "execution_count": null,
   "metadata": {
    "tags": [
     "student"
    ]
   },
   "outputs": [],
   "source": [
    "# Met onderstaande stacked barchart kun je de slagingspercentages op elkaar stapelen\n",
    "# De waarde op de y-as zegt niet zoveel: het is de som van twee slagingspercentages\n",
    "# De vergelijking met andere klassen zegt wél iets, je ziet dat klas P het hoogste scoort!\n",
    "\n",
    "labels = uitslagen_klas['Klas'].sort_values().unique()\n",
    "csn_means = uitslagen_klas.groupby('Klas')['Voldoende_csn'].agg(['mean'])\n",
    "prog_means = uitslagen_klas.groupby('Klas')['Voldoende_prog'].agg(['mean'])\n",
    "width = 0.35       # the width of the bars: can also be len(x) sequence\n",
    "\n",
    "fig, ax = plt.subplots()\n",
    "\n",
    "ax.bar(labels, csn_means['mean'], width, label='CSN')\n",
    "ax.bar(labels, prog_means['mean'], width, label='PROG', bottom=csn_means['mean'])\n",
    "\n",
    "ax.set_ylabel('Gemiddelde voor CSN en PROG')\n",
    "ax.set_title('Vergelijking klassen')\n",
    "ax.legend()\n",
    "\n",
    "plt.show()"
   ]
  },
  {
   "cell_type": "markdown",
   "metadata": {},
   "source": [
    "\n",
    "Een van de docenten vindt het correlatiecoëfficient aan de lage kant. Hij vraagt zich af of er klassen zijn waar het coëfficient hoger is.\n",
    "\n",
    "Maak een **interactieve** visualisatie waarmee de correlatie tussen de attributen `Eindcijfer_csn` en `Eindcijfer_prog` wordt getoond voor een of meerdere klassen. De visualisatie bij opgave 6.a was gebaseerd op de gehele dataset, de nieuwe visualisatie moet het mogelijk maken om een of meerdere klassen te selecteren en daarvoor de correlatie te tonen.\n",
    "\n",
    "**Tip:** gebruik hiervoor HoloViews en de bokeh extension"
   ]
  },
  {
   "cell_type": "code",
   "execution_count": null,
   "metadata": {},
   "outputs": [],
   "source": [
    "import holoviews as hv\n",
    "from holoviews import opts\n",
    "import pandas as pd\n",
    "hv.extension('bokeh')"
   ]
  },
  {
   "cell_type": "code",
   "execution_count": null,
   "metadata": {
    "tags": [
     "student"
    ]
   },
   "outputs": [],
   "source": [
    "# Met onderstaande plot zie je niet veel meer omdat er maar weinig punten zijn...\n",
    "# Het is beter om een correlation matrix te maken voor elke klas apart @TODO\n",
    "\n",
    "kdims = [('Klas')]\n",
    "vdims = ['Eindcijfer_prog', 'Eindcijfer_csn']\n",
    "ds = hv.Dataset(uitslagen_klas, kdims, vdims)\n",
    "ds"
   ]
  },
  {
   "cell_type": "code",
   "execution_count": null,
   "metadata": {
    "scrolled": true,
    "tags": [
     "student"
    ]
   },
   "outputs": [],
   "source": [
    "%%opts Scatter [width=500 height=500]\n",
    "\n",
    "ds.to(hv.Scatter, 'Eindcijfer_prog', 'Eindcijfer_csn')"
   ]
  },
  {
   "cell_type": "markdown",
   "metadata": {},
   "source": [
    "## Extra: Voorbeelden holoviews met titanic data"
   ]
  },
  {
   "cell_type": "code",
   "execution_count": null,
   "metadata": {},
   "outputs": [],
   "source": [
    "titanic = pd.read_csv('../titanic/train.csv')\n",
    "titanic.head()"
   ]
  },
  {
   "cell_type": "code",
   "execution_count": null,
   "metadata": {},
   "outputs": [],
   "source": [
    "#wat is de invloed van Sex op de overlevingskans? Maakt het daarbij nog uit in welke klasse je zat?"
   ]
  },
  {
   "cell_type": "code",
   "execution_count": null,
   "metadata": {},
   "outputs": [],
   "source": [
    "import numpy as np"
   ]
  },
  {
   "cell_type": "code",
   "execution_count": null,
   "metadata": {},
   "outputs": [],
   "source": [
    "vdims = ['Survived']\n",
    "kdims = ['Sex', 'Pclass']\n",
    "ds = hv.Dataset(titanic, kdims, vdims)\n",
    "\n",
    "ds = ds.aggregate(function = np.sum)\n",
    "ds.to(hv.Bars, 'Sex')"
   ]
  },
  {
   "cell_type": "code",
   "execution_count": null,
   "metadata": {},
   "outputs": [],
   "source": [
    "#Is er een relatie tussen de leeftijd en de betaalde prijs voor een ticket? Maakt de Pclass hier nog uit?"
   ]
  },
  {
   "cell_type": "code",
   "execution_count": null,
   "metadata": {},
   "outputs": [],
   "source": [
    "vdims = ['Age', 'Fare']\n",
    "kdims = ['Pclass']\n",
    "ds = hv.Dataset(titanic, kdims, vdims)"
   ]
  },
  {
   "cell_type": "code",
   "execution_count": null,
   "metadata": {},
   "outputs": [],
   "source": [
    "ds.to(hv.Scatter, 'Age', 'Fare')"
   ]
  },
  {
   "cell_type": "code",
   "execution_count": null,
   "metadata": {},
   "outputs": [],
   "source": [
    "# We willen weten hoe de leeftijd van de titanic-passagiers verdeeld is"
   ]
  },
  {
   "cell_type": "code",
   "execution_count": null,
   "metadata": {},
   "outputs": [],
   "source": [
    "titanic.dropna(how = 'any', inplace = True)\n",
    "hv.Histogram(np.histogram(titanic['Age'], bins=10), kdims=['Age'])"
   ]
  }
 ],
 "metadata": {
  "celltoolbar": "Tags",
  "kernelspec": {
   "display_name": "Python 3 (ipykernel)",
   "language": "python",
   "name": "python3"
  },
  "language_info": {
   "codemirror_mode": {
    "name": "ipython",
    "version": 3
   },
   "file_extension": ".py",
   "mimetype": "text/x-python",
   "name": "python",
   "nbconvert_exporter": "python",
   "pygments_lexer": "ipython3",
   "version": "3.12.4"
  }
 },
 "nbformat": 4,
 "nbformat_minor": 4
}
